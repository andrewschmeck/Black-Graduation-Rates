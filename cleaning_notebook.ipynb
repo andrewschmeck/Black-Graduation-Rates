{
 "cells": [
  {
   "cell_type": "code",
   "execution_count": 44,
   "metadata": {},
   "outputs": [],
   "source": [
    "import pandas as pd\n",
    "from functools import reduce\n",
    "import statsmodels.api as sm\n",
    "import numpy as np\n",
    "import seaborn as sns\n",
    "\n",
    "from sklearn.model_selection import train_test_split"
   ]
  },
  {
   "cell_type": "code",
   "execution_count": 45,
   "metadata": {},
   "outputs": [],
   "source": [
    "df = pd.read_csv(\"IL_public_data.csv\").iloc[:, 1:]\n"
   ]
  },
  {
   "cell_type": "code",
   "execution_count": 46,
   "metadata": {},
   "outputs": [],
   "source": [
    "#drop any column that has almost 40% missing values\n",
    "res2 = df.columns[df.isnull().sum() > 47]\n",
    "df.drop(res2, inplace=True, axis=1)\n",
    "df.set_index(['year', 'UNITID'], inplace=True)"
   ]
  },
  {
   "cell_type": "code",
   "execution_count": 47,
   "metadata": {},
   "outputs": [
    {
     "data": {
      "text/plain": [
       "1802"
      ]
     },
     "execution_count": 47,
     "metadata": {},
     "output_type": "execute_result"
    }
   ],
   "source": [
    "df.isna().sum().sum()"
   ]
  },
  {
   "cell_type": "code",
   "execution_count": 48,
   "metadata": {},
   "outputs": [
    {
     "ename": "KeyError",
     "evalue": "'UNITID'",
     "output_type": "error",
     "traceback": [
      "\u001b[1;31m---------------------------------------------------------------------------\u001b[0m",
      "\u001b[1;31mKeyError\u001b[0m                                  Traceback (most recent call last)",
      "\u001b[1;32m~\\Anaconda3\\envs\\learn-env\\lib\\site-packages\\pandas\\core\\indexes\\base.py\u001b[0m in \u001b[0;36mget_loc\u001b[1;34m(self, key, method, tolerance)\u001b[0m\n\u001b[0;32m   2894\u001b[0m             \u001b[1;32mtry\u001b[0m\u001b[1;33m:\u001b[0m\u001b[1;33m\u001b[0m\u001b[1;33m\u001b[0m\u001b[0m\n\u001b[1;32m-> 2895\u001b[1;33m                 \u001b[1;32mreturn\u001b[0m \u001b[0mself\u001b[0m\u001b[1;33m.\u001b[0m\u001b[0m_engine\u001b[0m\u001b[1;33m.\u001b[0m\u001b[0mget_loc\u001b[0m\u001b[1;33m(\u001b[0m\u001b[0mcasted_key\u001b[0m\u001b[1;33m)\u001b[0m\u001b[1;33m\u001b[0m\u001b[1;33m\u001b[0m\u001b[0m\n\u001b[0m\u001b[0;32m   2896\u001b[0m             \u001b[1;32mexcept\u001b[0m \u001b[0mKeyError\u001b[0m \u001b[1;32mas\u001b[0m \u001b[0merr\u001b[0m\u001b[1;33m:\u001b[0m\u001b[1;33m\u001b[0m\u001b[1;33m\u001b[0m\u001b[0m\n",
      "\u001b[1;32mpandas\\_libs\\index.pyx\u001b[0m in \u001b[0;36mpandas._libs.index.IndexEngine.get_loc\u001b[1;34m()\u001b[0m\n",
      "\u001b[1;32mpandas\\_libs\\index.pyx\u001b[0m in \u001b[0;36mpandas._libs.index.IndexEngine.get_loc\u001b[1;34m()\u001b[0m\n",
      "\u001b[1;32mpandas\\_libs\\hashtable_class_helper.pxi\u001b[0m in \u001b[0;36mpandas._libs.hashtable.PyObjectHashTable.get_item\u001b[1;34m()\u001b[0m\n",
      "\u001b[1;32mpandas\\_libs\\hashtable_class_helper.pxi\u001b[0m in \u001b[0;36mpandas._libs.hashtable.PyObjectHashTable.get_item\u001b[1;34m()\u001b[0m\n",
      "\u001b[1;31mKeyError\u001b[0m: 'UNITID'",
      "\nThe above exception was the direct cause of the following exception:\n",
      "\u001b[1;31mKeyError\u001b[0m                                  Traceback (most recent call last)",
      "\u001b[1;32m<ipython-input-48-d7700c355a14>\u001b[0m in \u001b[0;36m<module>\u001b[1;34m\u001b[0m\n\u001b[0;32m      1\u001b[0m \u001b[1;31m# #Getting rid of Governors State, because it is missing graduation rates\u001b[0m\u001b[1;33m\u001b[0m\u001b[1;33m\u001b[0m\u001b[1;33m\u001b[0m\u001b[0m\n\u001b[1;32m----> 2\u001b[1;33m \u001b[0mdf\u001b[0m \u001b[1;33m=\u001b[0m \u001b[0mdf\u001b[0m\u001b[1;33m[\u001b[0m\u001b[0mdf\u001b[0m\u001b[1;33m[\u001b[0m\u001b[1;34m\"UNITID\"\u001b[0m\u001b[1;33m]\u001b[0m \u001b[1;33m!=\u001b[0m \u001b[1;36m145336\u001b[0m\u001b[1;33m]\u001b[0m\u001b[1;33m\u001b[0m\u001b[1;33m\u001b[0m\u001b[0m\n\u001b[0m",
      "\u001b[1;32m~\\Anaconda3\\envs\\learn-env\\lib\\site-packages\\pandas\\core\\frame.py\u001b[0m in \u001b[0;36m__getitem__\u001b[1;34m(self, key)\u001b[0m\n\u001b[0;32m   2900\u001b[0m             \u001b[1;32mif\u001b[0m \u001b[0mself\u001b[0m\u001b[1;33m.\u001b[0m\u001b[0mcolumns\u001b[0m\u001b[1;33m.\u001b[0m\u001b[0mnlevels\u001b[0m \u001b[1;33m>\u001b[0m \u001b[1;36m1\u001b[0m\u001b[1;33m:\u001b[0m\u001b[1;33m\u001b[0m\u001b[1;33m\u001b[0m\u001b[0m\n\u001b[0;32m   2901\u001b[0m                 \u001b[1;32mreturn\u001b[0m \u001b[0mself\u001b[0m\u001b[1;33m.\u001b[0m\u001b[0m_getitem_multilevel\u001b[0m\u001b[1;33m(\u001b[0m\u001b[0mkey\u001b[0m\u001b[1;33m)\u001b[0m\u001b[1;33m\u001b[0m\u001b[1;33m\u001b[0m\u001b[0m\n\u001b[1;32m-> 2902\u001b[1;33m             \u001b[0mindexer\u001b[0m \u001b[1;33m=\u001b[0m \u001b[0mself\u001b[0m\u001b[1;33m.\u001b[0m\u001b[0mcolumns\u001b[0m\u001b[1;33m.\u001b[0m\u001b[0mget_loc\u001b[0m\u001b[1;33m(\u001b[0m\u001b[0mkey\u001b[0m\u001b[1;33m)\u001b[0m\u001b[1;33m\u001b[0m\u001b[1;33m\u001b[0m\u001b[0m\n\u001b[0m\u001b[0;32m   2903\u001b[0m             \u001b[1;32mif\u001b[0m \u001b[0mis_integer\u001b[0m\u001b[1;33m(\u001b[0m\u001b[0mindexer\u001b[0m\u001b[1;33m)\u001b[0m\u001b[1;33m:\u001b[0m\u001b[1;33m\u001b[0m\u001b[1;33m\u001b[0m\u001b[0m\n\u001b[0;32m   2904\u001b[0m                 \u001b[0mindexer\u001b[0m \u001b[1;33m=\u001b[0m \u001b[1;33m[\u001b[0m\u001b[0mindexer\u001b[0m\u001b[1;33m]\u001b[0m\u001b[1;33m\u001b[0m\u001b[1;33m\u001b[0m\u001b[0m\n",
      "\u001b[1;32m~\\Anaconda3\\envs\\learn-env\\lib\\site-packages\\pandas\\core\\indexes\\base.py\u001b[0m in \u001b[0;36mget_loc\u001b[1;34m(self, key, method, tolerance)\u001b[0m\n\u001b[0;32m   2895\u001b[0m                 \u001b[1;32mreturn\u001b[0m \u001b[0mself\u001b[0m\u001b[1;33m.\u001b[0m\u001b[0m_engine\u001b[0m\u001b[1;33m.\u001b[0m\u001b[0mget_loc\u001b[0m\u001b[1;33m(\u001b[0m\u001b[0mcasted_key\u001b[0m\u001b[1;33m)\u001b[0m\u001b[1;33m\u001b[0m\u001b[1;33m\u001b[0m\u001b[0m\n\u001b[0;32m   2896\u001b[0m             \u001b[1;32mexcept\u001b[0m \u001b[0mKeyError\u001b[0m \u001b[1;32mas\u001b[0m \u001b[0merr\u001b[0m\u001b[1;33m:\u001b[0m\u001b[1;33m\u001b[0m\u001b[1;33m\u001b[0m\u001b[0m\n\u001b[1;32m-> 2897\u001b[1;33m                 \u001b[1;32mraise\u001b[0m \u001b[0mKeyError\u001b[0m\u001b[1;33m(\u001b[0m\u001b[0mkey\u001b[0m\u001b[1;33m)\u001b[0m \u001b[1;32mfrom\u001b[0m \u001b[0merr\u001b[0m\u001b[1;33m\u001b[0m\u001b[1;33m\u001b[0m\u001b[0m\n\u001b[0m\u001b[0;32m   2898\u001b[0m \u001b[1;33m\u001b[0m\u001b[0m\n\u001b[0;32m   2899\u001b[0m         \u001b[1;32mif\u001b[0m \u001b[0mtolerance\u001b[0m \u001b[1;32mis\u001b[0m \u001b[1;32mnot\u001b[0m \u001b[1;32mNone\u001b[0m\u001b[1;33m:\u001b[0m\u001b[1;33m\u001b[0m\u001b[1;33m\u001b[0m\u001b[0m\n",
      "\u001b[1;31mKeyError\u001b[0m: 'UNITID'"
     ]
    }
   ],
   "source": [
    "# #Getting rid of Governors State, because it is missing graduation rates\n",
    "# df = df[df[\"UNITID\"] != 145336]"
   ]
  },
  {
   "cell_type": "code",
   "execution_count": 49,
   "metadata": {},
   "outputs": [
    {
     "name": "stdout",
     "output_type": "stream",
     "text": [
      "<class 'pandas.core.frame.DataFrame'>\n",
      "MultiIndex: 120 entries, (2019, 144005) to (2010, 149772)\n",
      "Columns: 203 entries, ENRTOT to DOCDEGOT\n",
      "dtypes: float64(203)\n",
      "memory usage: 191.4 KB\n"
     ]
    }
   ],
   "source": [
    "df.info()"
   ]
  },
  {
   "cell_type": "code",
   "execution_count": 50,
   "metadata": {},
   "outputs": [
    {
     "data": {
      "text/html": [
       "<div>\n",
       "<style scoped>\n",
       "    .dataframe tbody tr th:only-of-type {\n",
       "        vertical-align: middle;\n",
       "    }\n",
       "\n",
       "    .dataframe tbody tr th {\n",
       "        vertical-align: top;\n",
       "    }\n",
       "\n",
       "    .dataframe thead th {\n",
       "        text-align: right;\n",
       "    }\n",
       "</style>\n",
       "<table border=\"1\" class=\"dataframe\">\n",
       "  <thead>\n",
       "    <tr style=\"text-align: right;\">\n",
       "      <th></th>\n",
       "      <th>ENRTOT</th>\n",
       "      <th>FTE</th>\n",
       "      <th>ENRFT</th>\n",
       "      <th>ENRPT</th>\n",
       "      <th>PCTENRWH</th>\n",
       "      <th>PCTENRBK</th>\n",
       "      <th>PCTENRHS</th>\n",
       "      <th>PCTENRAP</th>\n",
       "      <th>PCTENRAS</th>\n",
       "      <th>PCTENRNH</th>\n",
       "      <th>...</th>\n",
       "      <th>SASCDEG</th>\n",
       "      <th>SBAMACRT</th>\n",
       "      <th>SCERT24</th>\n",
       "      <th>SCERT1</th>\n",
       "      <th>UNDUP</th>\n",
       "      <th>UNDUPUG</th>\n",
       "      <th>FTE12MN</th>\n",
       "      <th>DOCDEGRS</th>\n",
       "      <th>DOCDEGPP</th>\n",
       "      <th>DOCDEGOT</th>\n",
       "    </tr>\n",
       "  </thead>\n",
       "  <tbody>\n",
       "    <tr>\n",
       "      <th>count</th>\n",
       "      <td>120.000000</td>\n",
       "      <td>120.000000</td>\n",
       "      <td>120.00000</td>\n",
       "      <td>120.000000</td>\n",
       "      <td>120.0000</td>\n",
       "      <td>120.000000</td>\n",
       "      <td>120.000000</td>\n",
       "      <td>120.000000</td>\n",
       "      <td>120.000000</td>\n",
       "      <td>120.0</td>\n",
       "      <td>...</td>\n",
       "      <td>96.000000</td>\n",
       "      <td>96.000000</td>\n",
       "      <td>96.000000</td>\n",
       "      <td>96.0</td>\n",
       "      <td>120.000000</td>\n",
       "      <td>120.000000</td>\n",
       "      <td>120.000000</td>\n",
       "      <td>108.000000</td>\n",
       "      <td>108.000000</td>\n",
       "      <td>108.000000</td>\n",
       "    </tr>\n",
       "    <tr>\n",
       "      <th>mean</th>\n",
       "      <td>16035.108333</td>\n",
       "      <td>14009.891667</td>\n",
       "      <td>12761.25000</td>\n",
       "      <td>3273.858333</td>\n",
       "      <td>53.4250</td>\n",
       "      <td>18.783333</td>\n",
       "      <td>10.708333</td>\n",
       "      <td>5.316667</td>\n",
       "      <td>5.258333</td>\n",
       "      <td>0.0</td>\n",
       "      <td>...</td>\n",
       "      <td>7.177083</td>\n",
       "      <td>33.416667</td>\n",
       "      <td>0.135417</td>\n",
       "      <td>0.0</td>\n",
       "      <td>18411.358333</td>\n",
       "      <td>13333.075000</td>\n",
       "      <td>15164.166667</td>\n",
       "      <td>124.685185</td>\n",
       "      <td>124.138889</td>\n",
       "      <td>1.824074</td>\n",
       "    </tr>\n",
       "    <tr>\n",
       "      <th>std</th>\n",
       "      <td>11779.025065</td>\n",
       "      <td>11311.346914</td>\n",
       "      <td>11071.20192</td>\n",
       "      <td>1282.241763</td>\n",
       "      <td>20.0049</td>\n",
       "      <td>18.045779</td>\n",
       "      <td>7.981487</td>\n",
       "      <td>5.404610</td>\n",
       "      <td>5.363267</td>\n",
       "      <td>0.0</td>\n",
       "      <td>...</td>\n",
       "      <td>24.396719</td>\n",
       "      <td>37.265383</td>\n",
       "      <td>0.828693</td>\n",
       "      <td>0.0</td>\n",
       "      <td>12196.548407</td>\n",
       "      <td>8435.054202</td>\n",
       "      <td>12844.086191</td>\n",
       "      <td>228.170483</td>\n",
       "      <td>185.485544</td>\n",
       "      <td>5.859458</td>\n",
       "    </tr>\n",
       "    <tr>\n",
       "      <th>min</th>\n",
       "      <td>2964.000000</td>\n",
       "      <td>2258.000000</td>\n",
       "      <td>1810.00000</td>\n",
       "      <td>1154.000000</td>\n",
       "      <td>5.0000</td>\n",
       "      <td>5.000000</td>\n",
       "      <td>3.000000</td>\n",
       "      <td>1.000000</td>\n",
       "      <td>1.000000</td>\n",
       "      <td>0.0</td>\n",
       "      <td>...</td>\n",
       "      <td>0.000000</td>\n",
       "      <td>0.000000</td>\n",
       "      <td>0.000000</td>\n",
       "      <td>0.0</td>\n",
       "      <td>3593.000000</td>\n",
       "      <td>2438.000000</td>\n",
       "      <td>2260.000000</td>\n",
       "      <td>0.000000</td>\n",
       "      <td>0.000000</td>\n",
       "      <td>0.000000</td>\n",
       "    </tr>\n",
       "    <tr>\n",
       "      <th>25%</th>\n",
       "      <td>7273.000000</td>\n",
       "      <td>5533.000000</td>\n",
       "      <td>4326.25000</td>\n",
       "      <td>2334.500000</td>\n",
       "      <td>41.0000</td>\n",
       "      <td>9.000000</td>\n",
       "      <td>6.000000</td>\n",
       "      <td>2.000000</td>\n",
       "      <td>2.000000</td>\n",
       "      <td>0.0</td>\n",
       "      <td>...</td>\n",
       "      <td>0.000000</td>\n",
       "      <td>9.000000</td>\n",
       "      <td>0.000000</td>\n",
       "      <td>0.0</td>\n",
       "      <td>8967.500000</td>\n",
       "      <td>6749.500000</td>\n",
       "      <td>5798.750000</td>\n",
       "      <td>1.000000</td>\n",
       "      <td>0.000000</td>\n",
       "      <td>0.000000</td>\n",
       "    </tr>\n",
       "    <tr>\n",
       "      <th>50%</th>\n",
       "      <td>12569.500000</td>\n",
       "      <td>11159.500000</td>\n",
       "      <td>10127.00000</td>\n",
       "      <td>3047.500000</td>\n",
       "      <td>60.0000</td>\n",
       "      <td>13.000000</td>\n",
       "      <td>8.000000</td>\n",
       "      <td>3.000000</td>\n",
       "      <td>2.500000</td>\n",
       "      <td>0.0</td>\n",
       "      <td>...</td>\n",
       "      <td>0.000000</td>\n",
       "      <td>26.000000</td>\n",
       "      <td>0.000000</td>\n",
       "      <td>0.0</td>\n",
       "      <td>14822.500000</td>\n",
       "      <td>11891.000000</td>\n",
       "      <td>11345.500000</td>\n",
       "      <td>10.000000</td>\n",
       "      <td>37.000000</td>\n",
       "      <td>0.000000</td>\n",
       "    </tr>\n",
       "    <tr>\n",
       "      <th>75%</th>\n",
       "      <td>20719.500000</td>\n",
       "      <td>19132.750000</td>\n",
       "      <td>17923.50000</td>\n",
       "      <td>4143.500000</td>\n",
       "      <td>69.0000</td>\n",
       "      <td>17.000000</td>\n",
       "      <td>11.250000</td>\n",
       "      <td>6.500000</td>\n",
       "      <td>6.500000</td>\n",
       "      <td>0.0</td>\n",
       "      <td>...</td>\n",
       "      <td>0.000000</td>\n",
       "      <td>44.000000</td>\n",
       "      <td>0.000000</td>\n",
       "      <td>0.0</td>\n",
       "      <td>23300.750000</td>\n",
       "      <td>18317.250000</td>\n",
       "      <td>18871.500000</td>\n",
       "      <td>137.750000</td>\n",
       "      <td>168.750000</td>\n",
       "      <td>0.000000</td>\n",
       "    </tr>\n",
       "    <tr>\n",
       "      <th>max</th>\n",
       "      <td>51605.000000</td>\n",
       "      <td>46818.000000</td>\n",
       "      <td>44022.00000</td>\n",
       "      <td>7583.000000</td>\n",
       "      <td>82.0000</td>\n",
       "      <td>79.000000</td>\n",
       "      <td>36.000000</td>\n",
       "      <td>19.000000</td>\n",
       "      <td>19.000000</td>\n",
       "      <td>0.0</td>\n",
       "      <td>...</td>\n",
       "      <td>102.000000</td>\n",
       "      <td>196.000000</td>\n",
       "      <td>7.000000</td>\n",
       "      <td>0.0</td>\n",
       "      <td>54985.000000</td>\n",
       "      <td>35883.000000</td>\n",
       "      <td>53117.000000</td>\n",
       "      <td>869.000000</td>\n",
       "      <td>726.000000</td>\n",
       "      <td>42.000000</td>\n",
       "    </tr>\n",
       "  </tbody>\n",
       "</table>\n",
       "<p>8 rows × 203 columns</p>\n",
       "</div>"
      ],
      "text/plain": [
       "             ENRTOT           FTE        ENRFT        ENRPT  PCTENRWH  \\\n",
       "count    120.000000    120.000000    120.00000   120.000000  120.0000   \n",
       "mean   16035.108333  14009.891667  12761.25000  3273.858333   53.4250   \n",
       "std    11779.025065  11311.346914  11071.20192  1282.241763   20.0049   \n",
       "min     2964.000000   2258.000000   1810.00000  1154.000000    5.0000   \n",
       "25%     7273.000000   5533.000000   4326.25000  2334.500000   41.0000   \n",
       "50%    12569.500000  11159.500000  10127.00000  3047.500000   60.0000   \n",
       "75%    20719.500000  19132.750000  17923.50000  4143.500000   69.0000   \n",
       "max    51605.000000  46818.000000  44022.00000  7583.000000   82.0000   \n",
       "\n",
       "         PCTENRBK    PCTENRHS    PCTENRAP    PCTENRAS  PCTENRNH  ...  \\\n",
       "count  120.000000  120.000000  120.000000  120.000000     120.0  ...   \n",
       "mean    18.783333   10.708333    5.316667    5.258333       0.0  ...   \n",
       "std     18.045779    7.981487    5.404610    5.363267       0.0  ...   \n",
       "min      5.000000    3.000000    1.000000    1.000000       0.0  ...   \n",
       "25%      9.000000    6.000000    2.000000    2.000000       0.0  ...   \n",
       "50%     13.000000    8.000000    3.000000    2.500000       0.0  ...   \n",
       "75%     17.000000   11.250000    6.500000    6.500000       0.0  ...   \n",
       "max     79.000000   36.000000   19.000000   19.000000       0.0  ...   \n",
       "\n",
       "          SASCDEG    SBAMACRT    SCERT24  SCERT1         UNDUP       UNDUPUG  \\\n",
       "count   96.000000   96.000000  96.000000    96.0    120.000000    120.000000   \n",
       "mean     7.177083   33.416667   0.135417     0.0  18411.358333  13333.075000   \n",
       "std     24.396719   37.265383   0.828693     0.0  12196.548407   8435.054202   \n",
       "min      0.000000    0.000000   0.000000     0.0   3593.000000   2438.000000   \n",
       "25%      0.000000    9.000000   0.000000     0.0   8967.500000   6749.500000   \n",
       "50%      0.000000   26.000000   0.000000     0.0  14822.500000  11891.000000   \n",
       "75%      0.000000   44.000000   0.000000     0.0  23300.750000  18317.250000   \n",
       "max    102.000000  196.000000   7.000000     0.0  54985.000000  35883.000000   \n",
       "\n",
       "            FTE12MN    DOCDEGRS    DOCDEGPP    DOCDEGOT  \n",
       "count    120.000000  108.000000  108.000000  108.000000  \n",
       "mean   15164.166667  124.685185  124.138889    1.824074  \n",
       "std    12844.086191  228.170483  185.485544    5.859458  \n",
       "min     2260.000000    0.000000    0.000000    0.000000  \n",
       "25%     5798.750000    1.000000    0.000000    0.000000  \n",
       "50%    11345.500000   10.000000   37.000000    0.000000  \n",
       "75%    18871.500000  137.750000  168.750000    0.000000  \n",
       "max    53117.000000  869.000000  726.000000   42.000000  \n",
       "\n",
       "[8 rows x 203 columns]"
      ]
     },
     "execution_count": 50,
     "metadata": {},
     "output_type": "execute_result"
    }
   ],
   "source": [
    "df.describe()"
   ]
  },
  {
   "cell_type": "code",
   "execution_count": 51,
   "metadata": {},
   "outputs": [
    {
     "name": "stdout",
     "output_type": "stream",
     "text": [
      "[['ENRTOT', 'FTE', 'ENRFT', 'ENRPT', 'PCTENRWH', 'PCTENRBK', 'PCTENRHS', 'PCTENRAP', 'PCTENRAS', 'PCTENRNH', 'PCTENRAN', 'PCTENR2M', 'PCTENRUN', 'PCTENRNR', 'PCTENRW', 'PCTFT1ST', 'EFUG', 'EFUG1ST', 'EFUGTRN', 'EFUGCNT', 'EFUGNDG', 'EFUGFT', 'EFUG1SFT', 'EFUGTRFT', 'EFUGCNFT', 'EFUGNDFT', 'EFUGPT', 'EFUG1SPT', 'EFUGTRPT', 'EFUGCNPT', 'EFUGNDPT', 'PCUENRWH', 'PCUENRBK', 'PCUENRHS', 'PCUENRAP', 'PCUENRAS', 'PCUENRNH', 'PCUENRAN', 'PCUENR2M', 'PCUENRUN', 'PCUENRNR', 'PCUENRW', 'EFGRAD', 'EFGRADFT', 'EFGRADPT', 'PCGENRWH', 'PCGENRBK', 'PCGENRHS', 'PCGENRAP', 'PCGENRAS', 'PCGENRNH', 'PCGENRAN', 'PCGENR2M', 'PCGENRUN', 'PCGENRNR', 'PCGENRW', 'DVEF01', 'DVEF02', 'DVEF03', 'DVEF05', 'DVEF06', 'DVEF07', 'DVEF09', 'DVEF10', 'DVEF11', 'DVEF13', 'DVEF14', 'DVEF15', 'DVEF16', 'RMINSTTN', 'RMOUSTTN', 'RMFRGNCN', 'RMUNKNWN', 'RMINSTTP', 'RMOUSTTP', 'RMFRGNCP', 'RMUNKNWP', 'PCTDEEXC', 'PCTDESOM', 'PCTDENON', 'PCUDEEXC', 'PCUDESOM', 'PCUDENON', 'PCGDEEXC', 'PCGDESOM', 'PCGDENON', 'GRRTTOT', 'GRRTM', 'GRRTW', 'GRRTAN', 'GRRTAP', 'GRRTAS', 'GRRTBK', 'GRRTHS', 'GRRTWH', 'GRRTUN', 'GRRTNR', 'GBA4RTT', 'GBA5RTT', 'GBA6RTT', 'GBA6RTM', 'GBA6RTW', 'GBA6RTAN', 'GBA6RTAP', 'GBA6RTAS', 'GBA6RTBK', 'GBA6RTHS', 'GBA6RTWH', 'GBA6RTUN', 'GBA6RTNR', 'SALTOTL', 'SALPROF', 'SALASSC', 'SALASST', 'SALINST', 'SALLECT', 'SFTETOTL', 'SFTEPSTC', 'SFTEINST', 'SFTERSRC', 'SFTEPBSV', 'SFTELCAI', 'SFTELCA', 'SFTEOTIS', 'SFTEMNGM', 'SFTEBFO', 'SFTECES', 'SFTECLAM', 'SFTEHLTH', 'SFTEOTHR', 'SFTESRVC', 'SFTESALE', 'SFTEOFAS', 'SFTENRCM', 'SFTEPTMM', 'TUFEYR0', 'TUFEYR1', 'TUFEYR2', 'TUFEYR3', 'CINDON', 'CINSON', 'COTSON', 'CINDOFF', 'CINSOFF', 'COTSOFF', 'CINDFAM', 'CINSFAM', 'COTSFAM', 'F1CORREV', 'F1TUFEPC', 'F1STAPPC', 'F1LCAPPC', 'F1GVGCPC', 'F1PGGCPC', 'F1INVRPC', 'F1OTRVPC', 'F1TUFEFT', 'F1STAPFT', 'F1LCAPFT', 'F1GVGCFT', 'F1PGGCFT', 'F1INVRFT', 'F1OTRVFT', 'F1COREXP', 'F1INSTFT', 'F1RSRCFT', 'F1PBSVFT', 'F1ACSPFT', 'F1STSVFT', 'F1INSUFT', 'F1OTEXFT', 'F1INSTPC', 'F1RSRCPC', 'F1PBSVPC', 'F1ACSPPC', 'F1STSVPC', 'F1INSUPC', 'F1OTEXPC', 'F1ENDMFT', 'F1SAFBPC', 'F1SALRPC', 'F1EQUITR', 'ASCDEG', 'BASDEG', 'MASDEG', 'CERT1', 'CERT2', 'CERT4', 'PBACERT', 'PMACERT', 'SDOCDEG', 'SMASDEG', 'SBASDEG', 'SASCDEG', 'SBAMACRT', 'SCERT24', 'SCERT1', 'UNDUP', 'UNDUPUG', 'FTE12MN', 'DOCDEGRS', 'DOCDEGPP', 'DOCDEGOT']]\n"
     ]
    }
   ],
   "source": [
    "nan_values = df.isna().sum()\n",
    "nan_columns = nan_values.any()\n",
    "columns_with_nan = df.columns[nan_columns].tolist()\n",
    "print(columns_with_nan)                                    "
   ]
  },
  {
   "cell_type": "code",
   "execution_count": 53,
   "metadata": {},
   "outputs": [
    {
     "data": {
      "text/plain": [
       "0"
      ]
     },
     "execution_count": 53,
     "metadata": {},
     "output_type": "execute_result"
    }
   ],
   "source": [
    "df.dropna(axis=1,inplace=True)\n",
    "df.isna().sum().sum()"
   ]
  },
  {
   "cell_type": "code",
   "execution_count": 54,
   "metadata": {},
   "outputs": [],
   "source": [
    "import statsmodels.api as sm\n",
    "\t\t\t\n",
    "def stepwise_selection(X, y, \n",
    "                       initial_list=[], \n",
    "                       threshold_in=0.01, \n",
    "                       threshold_out = 0.05, \n",
    "                       verbose=True):\n",
    "    \"\"\" Perform a forward-backward feature selection \n",
    "    based on p-value from statsmodels.api.OLS\n",
    "    Arguments:\n",
    "        X - pandas.DataFrame with candidate features\n",
    "        y - list-like with the target\n",
    "        initial_list - list of features to start with (column names of X)\n",
    "        threshold_in - include a feature if its p-value < threshold_in\n",
    "        threshold_out - exclude a feature if its p-value > threshold_out\n",
    "        verbose - whether to print the sequence of inclusions and exclusions\n",
    "    Returns: list of selected features \n",
    "    Always set threshold_in < threshold_out to avoid infinite looping.\n",
    "    See https://en.wikipedia.org/wiki/Stepwise_regression for the details\n",
    "    \"\"\"\n",
    "    included = list(initial_list)\n",
    "    while True:\n",
    "        changed=False\n",
    "        # forward step\n",
    "        excluded = list(set(X.columns)-set(included))\n",
    "        new_pval = pd.Series(index=excluded)\n",
    "        for new_column in excluded:\n",
    "            model = sm.OLS(y, sm.add_constant(pd.DataFrame(X[included+[new_column]]))).fit()\n",
    "            new_pval[new_column] = model.pvalues[new_column]\n",
    "        best_pval = new_pval.min()\n",
    "        if best_pval < threshold_in:\n",
    "            best_feature = new_pval.idxmin()\n",
    "            included.append(best_feature)\n",
    "            changed=True\n",
    "            #if verbose:\n",
    "                #print('Add  {:30} with p-value {:.6}'.format(best_feature, best_pval))\n",
    "\n",
    "        # backward step\n",
    "        model = sm.OLS(y, sm.add_constant(pd.DataFrame(X[included]))).fit()\n",
    "        # use all coefs except intercept\n",
    "        pvalues = model.pvalues.iloc[1:]\n",
    "        worst_pval = pvalues.max() # null if pvalues is empty\n",
    "        if worst_pval > threshold_out:\n",
    "            changed=True\n",
    "            worst_feature = pvalues.argmax()\n",
    "            included.remove(worst_feature)\n",
    "            #if verbose:\n",
    "                #print('Drop {:30} with p-value {:.6}'.format(worst_feature, worst_pval))\n",
    "        if not changed:\n",
    "            break\n",
    "    included.append('id')\n",
    "    print('resulting features:')\n",
    "    print(included)\n",
    "    \n",
    "    return included"
   ]
  },
  {
   "cell_type": "code",
   "execution_count": 55,
   "metadata": {},
   "outputs": [],
   "source": [
    "#set target graduation rates\n",
    "y = df['F1CORREV']\n",
    "X = df.drop(columns=['F1CORREV'], axis=1)"
   ]
  },
  {
   "cell_type": "code",
   "execution_count": 56,
   "metadata": {},
   "outputs": [
    {
     "name": "stderr",
     "output_type": "stream",
     "text": [
      "<ipython-input-54-59576973df7c>:26: DeprecationWarning: The default dtype for empty Series will be 'object' instead of 'float64' in a future version. Specify a dtype explicitly to silence this warning.\n",
      "  new_pval = pd.Series(index=excluded)\n",
      "<ipython-input-54-59576973df7c>:26: DeprecationWarning: The default dtype for empty Series will be 'object' instead of 'float64' in a future version. Specify a dtype explicitly to silence this warning.\n",
      "  new_pval = pd.Series(index=excluded)\n",
      "<ipython-input-54-59576973df7c>:26: DeprecationWarning: The default dtype for empty Series will be 'object' instead of 'float64' in a future version. Specify a dtype explicitly to silence this warning.\n",
      "  new_pval = pd.Series(index=excluded)\n",
      "<ipython-input-54-59576973df7c>:26: DeprecationWarning: The default dtype for empty Series will be 'object' instead of 'float64' in a future version. Specify a dtype explicitly to silence this warning.\n",
      "  new_pval = pd.Series(index=excluded)\n",
      "<ipython-input-54-59576973df7c>:26: DeprecationWarning: The default dtype for empty Series will be 'object' instead of 'float64' in a future version. Specify a dtype explicitly to silence this warning.\n",
      "  new_pval = pd.Series(index=excluded)\n"
     ]
    },
    {
     "name": "stdout",
     "output_type": "stream",
     "text": [
      "resulting features:\n",
      "['F1COREXP', 'PCUENRAS', 'EFUGPT', 'PCGENRNR', 'id']\n"
     ]
    },
    {
     "data": {
      "text/plain": [
       "['F1COREXP', 'PCUENRAS', 'EFUGPT', 'PCGENRNR', 'id']"
      ]
     },
     "execution_count": 56,
     "metadata": {},
     "output_type": "execute_result"
    }
   ],
   "source": [
    "stepwise_selection(X,y)"
   ]
  },
  {
   "cell_type": "code",
   "execution_count": null,
   "metadata": {},
   "outputs": [],
   "source": [
    "X.columns"
   ]
  },
  {
   "cell_type": "code",
   "execution_count": null,
   "metadata": {},
   "outputs": [],
   "source": []
  }
 ],
 "metadata": {
  "interpreter": {
   "hash": "f697dcecb1d05ac00f1a3e6eaa77fcadd261c808812655cf66e71c69fa75e0c6"
  },
  "kernelspec": {
   "display_name": "Python (learn-env)",
   "language": "python",
   "name": "python3"
  },
  "language_info": {
   "codemirror_mode": {
    "name": "ipython",
    "version": 3
   },
   "file_extension": ".py",
   "mimetype": "text/x-python",
   "name": "python",
   "nbconvert_exporter": "python",
   "pygments_lexer": "ipython3",
   "version": "3.8.5"
  }
 },
 "nbformat": 4,
 "nbformat_minor": 4
}
