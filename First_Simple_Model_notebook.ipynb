{
 "cells": [
  {
   "cell_type": "markdown",
   "metadata": {},
   "source": [
    "# Imports "
   ]
  },
  {
   "cell_type": "code",
   "execution_count": 3,
   "metadata": {},
   "outputs": [],
   "source": [
    "import numpy as np\n",
    "import pandas as pd\n",
    "\n",
    "from sklearn.compose import ColumnTransformer\n",
    "from sklearn.pipeline import Pipeline\n",
    "from sklearn.preprocessing import  StandardScaler\n",
    "from sklearn.model_selection import train_test_split, cross_val_score\n",
    "from sklearn.metrics import  accuracy_score\n",
    "from sklearn.tree import DecisionTreeClassifier\n",
    "from sklearn.dummy import DummyClassifier\n"
   ]
  },
  {
   "cell_type": "markdown",
   "metadata": {},
   "source": [
    "# Data Retrieval"
   ]
  },
  {
   "cell_type": "code",
   "execution_count": 4,
   "metadata": {},
   "outputs": [],
   "source": [
    "df_private = pd.read_csv(\"data/private_financials.csv\").iloc[:, 1:]\n",
    "df_public = pd.read_csv(\"data/public_financials.csv\").iloc[:, 1:]"
   ]
  },
  {
   "cell_type": "code",
   "execution_count": 5,
   "metadata": {},
   "outputs": [],
   "source": [
    "df_private = df_private[['UNITID','F2CORREV','F2TUFEPC', 'F2GVGCPC', 'F2PGGCPC','F2INVRPC', \n",
    "'F2OTRVPC', 'F2TUFEFT','F2GVGCFT','F2PGGCFT','F2INVRFT','F2OTRVFT','F2COREXP',\n",
    "'F2INSTPC','F2RSRCPC','F2PBSVPC','F2ACSPPC','F2STSVPC','F2INSUPC','F2OTEXPC',\n",
    "'F2INSTFT','F2RSRCFT','F2PBSVFT','F2ACSPFT','F2STSVFT','F2INSUFT','F2OTEXFT',\n",
    "'F2SAFBPC','F2SALRPC','F2ENDMFT','F2EQUITR','GBA6RTBK', 'year']]\n",
    "df_public = df_public[['UNITID','F1CORREV','F1TUFEPC','F1GVGCPC','F1PGGCPC','F1INVRPC',\n",
    "'F1OTRVPC','F1TUFEFT','F1STAPFT','F1LCAPFT','F1GVGCFT','F1PGGCFT','F1INVRFT',\n",
    "'F1OTRVFT','F1COREXP','F1INSTPC','F1RSRCPC','F1PBSVPC','F1ACSPPC','F1STSVPC',\n",
    "'F1INSUPC','F1OTEXPC','F1INSTFT','F1RSRCFT','F1PBSVFT','F1ACSPFT','F1STSVFT',\n",
    "'F1INSUFT','F1OTEXFT','F1SAFBPC','F1SALRPC','F1ENDMFT','F1EQUITR','GBA6RTBK', 'year']]\n"
   ]
  },
  {
   "cell_type": "markdown",
   "metadata": {},
   "source": [
    "# Data Cleaning"
   ]
  },
  {
   "cell_type": "code",
   "execution_count": 6,
   "metadata": {},
   "outputs": [],
   "source": [
    "#if you don't have the target, why are you even here?\n",
    "df_private = df_private[~df_private['GBA6RTBK'].isna()]\n",
    "#and again for public\n",
    "df_public = df_public[~df_public['GBA6RTBK'].isna()]"
   ]
  },
  {
   "cell_type": "code",
   "execution_count": 7,
   "metadata": {},
   "outputs": [
    {
     "data": {
      "text/html": [
       "<div>\n",
       "<style scoped>\n",
       "    .dataframe tbody tr th:only-of-type {\n",
       "        vertical-align: middle;\n",
       "    }\n",
       "\n",
       "    .dataframe tbody tr th {\n",
       "        vertical-align: top;\n",
       "    }\n",
       "\n",
       "    .dataframe thead th {\n",
       "        text-align: right;\n",
       "    }\n",
       "</style>\n",
       "<table border=\"1\" class=\"dataframe\">\n",
       "  <thead>\n",
       "    <tr style=\"text-align: right;\">\n",
       "      <th></th>\n",
       "      <th></th>\n",
       "      <th>F1CORREV</th>\n",
       "      <th>F1TUFEPC</th>\n",
       "      <th>F1GVGCPC</th>\n",
       "      <th>F1PGGCPC</th>\n",
       "      <th>F1INVRPC</th>\n",
       "      <th>F1OTRVPC</th>\n",
       "      <th>F1TUFEFT</th>\n",
       "      <th>F1STAPFT</th>\n",
       "      <th>F1LCAPFT</th>\n",
       "      <th>F1GVGCFT</th>\n",
       "      <th>...</th>\n",
       "      <th>F1PBSVFT</th>\n",
       "      <th>F1ACSPFT</th>\n",
       "      <th>F1STSVFT</th>\n",
       "      <th>F1INSUFT</th>\n",
       "      <th>F1OTEXFT</th>\n",
       "      <th>F1SAFBPC</th>\n",
       "      <th>F1SALRPC</th>\n",
       "      <th>F1ENDMFT</th>\n",
       "      <th>F1EQUITR</th>\n",
       "      <th>GBA6RTBK</th>\n",
       "    </tr>\n",
       "    <tr>\n",
       "      <th>year</th>\n",
       "      <th>UNITID</th>\n",
       "      <th></th>\n",
       "      <th></th>\n",
       "      <th></th>\n",
       "      <th></th>\n",
       "      <th></th>\n",
       "      <th></th>\n",
       "      <th></th>\n",
       "      <th></th>\n",
       "      <th></th>\n",
       "      <th></th>\n",
       "      <th></th>\n",
       "      <th></th>\n",
       "      <th></th>\n",
       "      <th></th>\n",
       "      <th></th>\n",
       "      <th></th>\n",
       "      <th></th>\n",
       "      <th></th>\n",
       "      <th></th>\n",
       "      <th></th>\n",
       "      <th></th>\n",
       "    </tr>\n",
       "  </thead>\n",
       "  <tbody>\n",
       "    <tr>\n",
       "      <th rowspan=\"5\" valign=\"top\">2019</th>\n",
       "      <th>100654</th>\n",
       "      <td>NaN</td>\n",
       "      <td>NaN</td>\n",
       "      <td>NaN</td>\n",
       "      <td>NaN</td>\n",
       "      <td>NaN</td>\n",
       "      <td>NaN</td>\n",
       "      <td>NaN</td>\n",
       "      <td>NaN</td>\n",
       "      <td>NaN</td>\n",
       "      <td>NaN</td>\n",
       "      <td>...</td>\n",
       "      <td>NaN</td>\n",
       "      <td>NaN</td>\n",
       "      <td>NaN</td>\n",
       "      <td>NaN</td>\n",
       "      <td>NaN</td>\n",
       "      <td>NaN</td>\n",
       "      <td>NaN</td>\n",
       "      <td>NaN</td>\n",
       "      <td>NaN</td>\n",
       "      <td>30.0</td>\n",
       "    </tr>\n",
       "    <tr>\n",
       "      <th>100663</th>\n",
       "      <td>NaN</td>\n",
       "      <td>NaN</td>\n",
       "      <td>NaN</td>\n",
       "      <td>NaN</td>\n",
       "      <td>NaN</td>\n",
       "      <td>NaN</td>\n",
       "      <td>NaN</td>\n",
       "      <td>NaN</td>\n",
       "      <td>NaN</td>\n",
       "      <td>NaN</td>\n",
       "      <td>...</td>\n",
       "      <td>NaN</td>\n",
       "      <td>NaN</td>\n",
       "      <td>NaN</td>\n",
       "      <td>NaN</td>\n",
       "      <td>NaN</td>\n",
       "      <td>NaN</td>\n",
       "      <td>NaN</td>\n",
       "      <td>NaN</td>\n",
       "      <td>NaN</td>\n",
       "      <td>56.0</td>\n",
       "    </tr>\n",
       "    <tr>\n",
       "      <th>100706</th>\n",
       "      <td>NaN</td>\n",
       "      <td>NaN</td>\n",
       "      <td>NaN</td>\n",
       "      <td>NaN</td>\n",
       "      <td>NaN</td>\n",
       "      <td>NaN</td>\n",
       "      <td>NaN</td>\n",
       "      <td>NaN</td>\n",
       "      <td>NaN</td>\n",
       "      <td>NaN</td>\n",
       "      <td>...</td>\n",
       "      <td>NaN</td>\n",
       "      <td>NaN</td>\n",
       "      <td>NaN</td>\n",
       "      <td>NaN</td>\n",
       "      <td>NaN</td>\n",
       "      <td>NaN</td>\n",
       "      <td>NaN</td>\n",
       "      <td>NaN</td>\n",
       "      <td>NaN</td>\n",
       "      <td>43.0</td>\n",
       "    </tr>\n",
       "    <tr>\n",
       "      <th>100724</th>\n",
       "      <td>NaN</td>\n",
       "      <td>NaN</td>\n",
       "      <td>NaN</td>\n",
       "      <td>NaN</td>\n",
       "      <td>NaN</td>\n",
       "      <td>NaN</td>\n",
       "      <td>NaN</td>\n",
       "      <td>NaN</td>\n",
       "      <td>NaN</td>\n",
       "      <td>NaN</td>\n",
       "      <td>...</td>\n",
       "      <td>NaN</td>\n",
       "      <td>NaN</td>\n",
       "      <td>NaN</td>\n",
       "      <td>NaN</td>\n",
       "      <td>NaN</td>\n",
       "      <td>NaN</td>\n",
       "      <td>NaN</td>\n",
       "      <td>NaN</td>\n",
       "      <td>NaN</td>\n",
       "      <td>31.0</td>\n",
       "    </tr>\n",
       "    <tr>\n",
       "      <th>100751</th>\n",
       "      <td>NaN</td>\n",
       "      <td>NaN</td>\n",
       "      <td>NaN</td>\n",
       "      <td>NaN</td>\n",
       "      <td>NaN</td>\n",
       "      <td>NaN</td>\n",
       "      <td>NaN</td>\n",
       "      <td>NaN</td>\n",
       "      <td>NaN</td>\n",
       "      <td>NaN</td>\n",
       "      <td>...</td>\n",
       "      <td>NaN</td>\n",
       "      <td>NaN</td>\n",
       "      <td>NaN</td>\n",
       "      <td>NaN</td>\n",
       "      <td>NaN</td>\n",
       "      <td>NaN</td>\n",
       "      <td>NaN</td>\n",
       "      <td>NaN</td>\n",
       "      <td>NaN</td>\n",
       "      <td>57.0</td>\n",
       "    </tr>\n",
       "    <tr>\n",
       "      <th>...</th>\n",
       "      <th>...</th>\n",
       "      <td>...</td>\n",
       "      <td>...</td>\n",
       "      <td>...</td>\n",
       "      <td>...</td>\n",
       "      <td>...</td>\n",
       "      <td>...</td>\n",
       "      <td>...</td>\n",
       "      <td>...</td>\n",
       "      <td>...</td>\n",
       "      <td>...</td>\n",
       "      <td>...</td>\n",
       "      <td>...</td>\n",
       "      <td>...</td>\n",
       "      <td>...</td>\n",
       "      <td>...</td>\n",
       "      <td>...</td>\n",
       "      <td>...</td>\n",
       "      <td>...</td>\n",
       "      <td>...</td>\n",
       "      <td>...</td>\n",
       "      <td>...</td>\n",
       "    </tr>\n",
       "    <tr>\n",
       "      <th rowspan=\"5\" valign=\"top\">2014</th>\n",
       "      <th>436818</th>\n",
       "      <td>26794102.0</td>\n",
       "      <td>19.0</td>\n",
       "      <td>14.0</td>\n",
       "      <td>3.0</td>\n",
       "      <td>0.0</td>\n",
       "      <td>27.0</td>\n",
       "      <td>2367.0</td>\n",
       "      <td>4604.0</td>\n",
       "      <td>0.0</td>\n",
       "      <td>1797.0</td>\n",
       "      <td>...</td>\n",
       "      <td>774.0</td>\n",
       "      <td>1490.0</td>\n",
       "      <td>516.0</td>\n",
       "      <td>1314.0</td>\n",
       "      <td>102.0</td>\n",
       "      <td>67.0</td>\n",
       "      <td>45.0</td>\n",
       "      <td>2943.0</td>\n",
       "      <td>52.0</td>\n",
       "      <td>43.0</td>\n",
       "    </tr>\n",
       "    <tr>\n",
       "      <th>436827</th>\n",
       "      <td>23641855.0</td>\n",
       "      <td>19.0</td>\n",
       "      <td>14.0</td>\n",
       "      <td>3.0</td>\n",
       "      <td>0.0</td>\n",
       "      <td>27.0</td>\n",
       "      <td>7517.0</td>\n",
       "      <td>14623.0</td>\n",
       "      <td>0.0</td>\n",
       "      <td>5707.0</td>\n",
       "      <td>...</td>\n",
       "      <td>2459.0</td>\n",
       "      <td>4732.0</td>\n",
       "      <td>1640.0</td>\n",
       "      <td>4172.0</td>\n",
       "      <td>323.0</td>\n",
       "      <td>67.0</td>\n",
       "      <td>45.0</td>\n",
       "      <td>9347.0</td>\n",
       "      <td>52.0</td>\n",
       "      <td>50.0</td>\n",
       "    </tr>\n",
       "    <tr>\n",
       "      <th>436836</th>\n",
       "      <td>18913484.0</td>\n",
       "      <td>19.0</td>\n",
       "      <td>14.0</td>\n",
       "      <td>3.0</td>\n",
       "      <td>0.0</td>\n",
       "      <td>27.0</td>\n",
       "      <td>3126.0</td>\n",
       "      <td>6082.0</td>\n",
       "      <td>0.0</td>\n",
       "      <td>2374.0</td>\n",
       "      <td>...</td>\n",
       "      <td>1023.0</td>\n",
       "      <td>1968.0</td>\n",
       "      <td>682.0</td>\n",
       "      <td>1735.0</td>\n",
       "      <td>134.0</td>\n",
       "      <td>67.0</td>\n",
       "      <td>45.0</td>\n",
       "      <td>3887.0</td>\n",
       "      <td>52.0</td>\n",
       "      <td>43.0</td>\n",
       "    </tr>\n",
       "    <tr>\n",
       "      <th>448886</th>\n",
       "      <td>255065860.0</td>\n",
       "      <td>49.0</td>\n",
       "      <td>21.0</td>\n",
       "      <td>5.0</td>\n",
       "      <td>1.0</td>\n",
       "      <td>6.0</td>\n",
       "      <td>12430.0</td>\n",
       "      <td>4358.0</td>\n",
       "      <td>0.0</td>\n",
       "      <td>5353.0</td>\n",
       "      <td>...</td>\n",
       "      <td>614.0</td>\n",
       "      <td>3731.0</td>\n",
       "      <td>1234.0</td>\n",
       "      <td>2081.0</td>\n",
       "      <td>1900.0</td>\n",
       "      <td>55.0</td>\n",
       "      <td>41.0</td>\n",
       "      <td>8673.0</td>\n",
       "      <td>47.0</td>\n",
       "      <td>48.0</td>\n",
       "    </tr>\n",
       "    <tr>\n",
       "      <th>479956</th>\n",
       "      <td>NaN</td>\n",
       "      <td>NaN</td>\n",
       "      <td>NaN</td>\n",
       "      <td>NaN</td>\n",
       "      <td>NaN</td>\n",
       "      <td>NaN</td>\n",
       "      <td>NaN</td>\n",
       "      <td>NaN</td>\n",
       "      <td>NaN</td>\n",
       "      <td>NaN</td>\n",
       "      <td>...</td>\n",
       "      <td>NaN</td>\n",
       "      <td>NaN</td>\n",
       "      <td>NaN</td>\n",
       "      <td>NaN</td>\n",
       "      <td>NaN</td>\n",
       "      <td>NaN</td>\n",
       "      <td>NaN</td>\n",
       "      <td>NaN</td>\n",
       "      <td>NaN</td>\n",
       "      <td>0.0</td>\n",
       "    </tr>\n",
       "  </tbody>\n",
       "</table>\n",
       "<p>3444 rows × 33 columns</p>\n",
       "</div>"
      ],
      "text/plain": [
       "                F1CORREV  F1TUFEPC  F1GVGCPC  F1PGGCPC  F1INVRPC  F1OTRVPC  \\\n",
       "year UNITID                                                                  \n",
       "2019 100654          NaN       NaN       NaN       NaN       NaN       NaN   \n",
       "     100663          NaN       NaN       NaN       NaN       NaN       NaN   \n",
       "     100706          NaN       NaN       NaN       NaN       NaN       NaN   \n",
       "     100724          NaN       NaN       NaN       NaN       NaN       NaN   \n",
       "     100751          NaN       NaN       NaN       NaN       NaN       NaN   \n",
       "...                  ...       ...       ...       ...       ...       ...   \n",
       "2014 436818   26794102.0      19.0      14.0       3.0       0.0      27.0   \n",
       "     436827   23641855.0      19.0      14.0       3.0       0.0      27.0   \n",
       "     436836   18913484.0      19.0      14.0       3.0       0.0      27.0   \n",
       "     448886  255065860.0      49.0      21.0       5.0       1.0       6.0   \n",
       "     479956          NaN       NaN       NaN       NaN       NaN       NaN   \n",
       "\n",
       "             F1TUFEFT  F1STAPFT  F1LCAPFT  F1GVGCFT  ...  F1PBSVFT  F1ACSPFT  \\\n",
       "year UNITID                                          ...                       \n",
       "2019 100654       NaN       NaN       NaN       NaN  ...       NaN       NaN   \n",
       "     100663       NaN       NaN       NaN       NaN  ...       NaN       NaN   \n",
       "     100706       NaN       NaN       NaN       NaN  ...       NaN       NaN   \n",
       "     100724       NaN       NaN       NaN       NaN  ...       NaN       NaN   \n",
       "     100751       NaN       NaN       NaN       NaN  ...       NaN       NaN   \n",
       "...               ...       ...       ...       ...  ...       ...       ...   \n",
       "2014 436818    2367.0    4604.0       0.0    1797.0  ...     774.0    1490.0   \n",
       "     436827    7517.0   14623.0       0.0    5707.0  ...    2459.0    4732.0   \n",
       "     436836    3126.0    6082.0       0.0    2374.0  ...    1023.0    1968.0   \n",
       "     448886   12430.0    4358.0       0.0    5353.0  ...     614.0    3731.0   \n",
       "     479956       NaN       NaN       NaN       NaN  ...       NaN       NaN   \n",
       "\n",
       "             F1STSVFT  F1INSUFT  F1OTEXFT  F1SAFBPC  F1SALRPC  F1ENDMFT  \\\n",
       "year UNITID                                                               \n",
       "2019 100654       NaN       NaN       NaN       NaN       NaN       NaN   \n",
       "     100663       NaN       NaN       NaN       NaN       NaN       NaN   \n",
       "     100706       NaN       NaN       NaN       NaN       NaN       NaN   \n",
       "     100724       NaN       NaN       NaN       NaN       NaN       NaN   \n",
       "     100751       NaN       NaN       NaN       NaN       NaN       NaN   \n",
       "...               ...       ...       ...       ...       ...       ...   \n",
       "2014 436818     516.0    1314.0     102.0      67.0      45.0    2943.0   \n",
       "     436827    1640.0    4172.0     323.0      67.0      45.0    9347.0   \n",
       "     436836     682.0    1735.0     134.0      67.0      45.0    3887.0   \n",
       "     448886    1234.0    2081.0    1900.0      55.0      41.0    8673.0   \n",
       "     479956       NaN       NaN       NaN       NaN       NaN       NaN   \n",
       "\n",
       "             F1EQUITR  GBA6RTBK  \n",
       "year UNITID                      \n",
       "2019 100654       NaN      30.0  \n",
       "     100663       NaN      56.0  \n",
       "     100706       NaN      43.0  \n",
       "     100724       NaN      31.0  \n",
       "     100751       NaN      57.0  \n",
       "...               ...       ...  \n",
       "2014 436818      52.0      43.0  \n",
       "     436827      52.0      50.0  \n",
       "     436836      52.0      43.0  \n",
       "     448886      47.0      48.0  \n",
       "     479956       NaN       0.0  \n",
       "\n",
       "[3444 rows x 33 columns]"
      ]
     },
     "execution_count": 7,
     "metadata": {},
     "output_type": "execute_result"
    }
   ],
   "source": [
    "#drop rows with no information\n",
    "df_private.set_index(['UNITID'], inplace=True)\n",
    "df_private.dropna(how='all')\n",
    "#and again for public\n",
    "df_public.set_index(['UNITID'], inplace=True)\n",
    "df_public.dropna(how='all')"
   ]
  },
  {
   "cell_type": "markdown",
   "metadata": {},
   "source": [
    "# Target Split "
   ]
  },
  {
   "cell_type": "code",
   "execution_count": 8,
   "metadata": {},
   "outputs": [],
   "source": [
    "#bin target to binary\n",
    "df_private.loc[df_private['GBA6RTBK'] > 66,'abv_avg_gr'] = 1\n",
    "df_private.loc[df_private['GBA6RTBK'] <= 66,'abv_avg_gr'] = 0\n",
    "#and again for public\n",
    "df_public.loc[df_public['GBA6RTBK'] > 58,'abv_avg_gr'] = 1\n",
    "df_public.loc[df_public['GBA6RTBK'] <= 58,'abv_avg_gr'] = 0"
   ]
  },
  {
   "cell_type": "code",
   "execution_count": 10,
   "metadata": {},
   "outputs": [],
   "source": [
    "#private\n",
    "y_private = df_private['abv_avg_gr']\n",
    "X_private = df_private.drop(columns = ['GBA6RTBK', 'abv_avg_gr'], axis = 1)\n",
    "X_train_private, X_test_private, y_train_private, y_test_private = train_test_split(X_private, y_private, random_state = 42)\n",
    "#and for public\n",
    "y_public = df_public['abv_avg_gr']\n",
    "X_public = df_public.drop(columns = ['GBA6RTBK', 'abv_avg_gr'], axis = 1)\n",
    "X_train_public, X_test_public, y_train_public, y_test_public = train_test_split(X_public, y_public, random_state = 42)\n"
   ]
  },
  {
   "cell_type": "code",
   "execution_count": 11,
   "metadata": {},
   "outputs": [],
   "source": [
    "#Concatenate to one dataframe, check for nan's\n",
    "df_private = pd.concat([X_train_private, y_train_private], axis=1)\n",
    "df_private.dropna(inplace=True)\n",
    "#for public\n",
    "df_public = pd.concat([X_train_public, y_train_public], axis=1)\n",
    "df_public.dropna(inplace=True)"
   ]
  },
  {
   "cell_type": "code",
   "execution_count": 12,
   "metadata": {},
   "outputs": [],
   "source": [
    "#split back\n",
    "y_train_private = df_private['abv_avg_gr']\n",
    "X_train_private = df_private.drop(columns = ['abv_avg_gr'], axis = 1)\n",
    "#for public\n",
    "y_train_public = df_public['abv_avg_gr']\n",
    "X_train_public = df_public.drop(columns = ['abv_avg_gr'], axis = 1)\n"
   ]
  },
  {
   "cell_type": "markdown",
   "metadata": {},
   "source": [
    "# First Simple Model"
   ]
  },
  {
   "cell_type": "markdown",
   "metadata": {},
   "source": [
    "## Pipeline"
   ]
  },
  {
   "cell_type": "code",
   "execution_count": 13,
   "metadata": {},
   "outputs": [],
   "source": [
    "#Set up pipeline for scaling continuous variables\n",
    "continuous_pipeline_private= Pipeline(steps=[\n",
    "    ('ss', StandardScaler())\n",
    "])\n",
    "\n",
    "trans_private = ColumnTransformer(transformers=[\n",
    "    ('continuous', continuous_pipeline_private, X_train_private.columns),\n",
    "])\n"
   ]
  },
  {
   "cell_type": "code",
   "execution_count": 14,
   "metadata": {},
   "outputs": [],
   "source": [
    "#for public\n",
    "continuous_pipeline_public = Pipeline(steps=[\n",
    "    ('ss', StandardScaler())\n",
    "])\n",
    "\n",
    "trans_public = ColumnTransformer(transformers=[\n",
    "    ('continuous', continuous_pipeline_public, X_train_public.columns),\n",
    "])"
   ]
  },
  {
   "cell_type": "markdown",
   "metadata": {},
   "source": [
    "## Dummy"
   ]
  },
  {
   "cell_type": "code",
   "execution_count": 15,
   "metadata": {},
   "outputs": [
    {
     "name": "stderr",
     "output_type": "stream",
     "text": [
      "C:\\Users\\andy.schmeck.OFFICE\\Anaconda3\\envs\\learn-env\\lib\\site-packages\\sklearn\\dummy.py:131: FutureWarning: The default value of strategy will change from stratified to prior in 0.24.\n",
      "  warnings.warn(\"The default value of strategy will change from \"\n"
     ]
    },
    {
     "data": {
      "text/plain": [
       "0.6579094466182225"
      ]
     },
     "execution_count": 15,
     "metadata": {},
     "output_type": "execute_result"
    }
   ],
   "source": [
    "#Pipeline for running the model\n",
    "dummy_private = Pipeline(steps=[\n",
    "    ('trans', trans_private),\n",
    "    ('dummy', DummyClassifier(random_state = 42))\n",
    "])\n",
    "#Fitting and checking the score\n",
    "dummy_private.fit(X_train_private, y_train_private)\n",
    "dummy_private.score(X_train_private, y_train_private)\n"
   ]
  },
  {
   "cell_type": "code",
   "execution_count": 16,
   "metadata": {},
   "outputs": [
    {
     "name": "stderr",
     "output_type": "stream",
     "text": [
      "C:\\Users\\andy.schmeck.OFFICE\\Anaconda3\\envs\\learn-env\\lib\\site-packages\\sklearn\\dummy.py:131: FutureWarning: The default value of strategy will change from stratified to prior in 0.24.\n",
      "  warnings.warn(\"The default value of strategy will change from \"\n"
     ]
    },
    {
     "data": {
      "text/plain": [
       "0.6860524961399898"
      ]
     },
     "execution_count": 16,
     "metadata": {},
     "output_type": "execute_result"
    }
   ],
   "source": [
    "#Public\n",
    "dummy_public = Pipeline(steps=[\n",
    "    ('trans', trans_public),\n",
    "    ('dummy', DummyClassifier(random_state = 42))\n",
    "])\n",
    "#Fitting and checking the score\n",
    "dummy_public.fit(X_train_public, y_train_public)\n",
    "dummy_public.score(X_train_public, y_train_public)"
   ]
  },
  {
   "cell_type": "markdown",
   "metadata": {},
   "source": [
    "## Decision Tree"
   ]
  },
  {
   "cell_type": "code",
   "execution_count": 17,
   "metadata": {},
   "outputs": [
    {
     "name": "stdout",
     "output_type": "stream",
     "text": [
      "Training Score:0.8870877585243152\n",
      "Validation Score:0.8602578427159433\n"
     ]
    }
   ],
   "source": [
    "model_one_private = Pipeline(steps=[\n",
    "    ('trans', trans_private),\n",
    "    ('simple_dt', DecisionTreeClassifier(max_depth = 5, random_state = 42))\n",
    "])\n",
    "#Fit model on all the data\n",
    "model_one_private.fit(X_train_private, y_train_private)\n",
    "#Grab predictions and print precision\n",
    "y_pred_private = model_one_private.predict(X_train_private)\n",
    "print(\"Training Score:\" + str(accuracy_score(y_train_private, y_pred_private)))\n",
    "#Run a cross validation to test for overfitting\n",
    "scores_private = np.mean(cross_val_score(model_one_private, X_train_private, y_train_private, cv=5, scoring = 'accuracy'))\n",
    "print(\"Validation Score:\" + str(scores_private))"
   ]
  },
  {
   "cell_type": "code",
   "execution_count": 18,
   "metadata": {},
   "outputs": [
    {
     "name": "stdout",
     "output_type": "stream",
     "text": [
      "Training Score:0.9104477611940298\n",
      "Validation Score:0.8769869875175577\n"
     ]
    }
   ],
   "source": [
    "model_one_public = Pipeline(steps=[\n",
    "    ('trans', trans_public),\n",
    "    ('simple_dt', DecisionTreeClassifier(max_depth = 5, random_state = 42))\n",
    "])\n",
    "#Fit model on all the data\n",
    "model_one_public.fit(X_train_public, y_train_public)\n",
    "#Grab predictions and print precision\n",
    "y_pred_public = model_one_public.predict(X_train_public)\n",
    "print(\"Training Score:\" + str(accuracy_score(y_train_public, y_pred_public)))\n",
    "#Run a cross validation to test for overfitting\n",
    "scores_public = np.mean(cross_val_score(model_one_public, X_train_public, y_train_public, cv=5, scoring = 'accuracy'))\n",
    "print(\"Validation Score:\" + str(scores_public))"
   ]
  },
  {
   "cell_type": "code",
   "execution_count": 20,
   "metadata": {},
   "outputs": [
    {
     "data": {
      "text/plain": [
       "[('F2CORREV', 0.006054950617189415),\n",
       " ('F2TUFEPC', 0.013407390652347988),\n",
       " ('F2OTRVPC', 0.013430638675368735),\n",
       " ('F2TUFEFT', 0.008722367009712668),\n",
       " ('F2GVGCFT', 0.012905001459879275),\n",
       " ('F2INVRFT', 0.006195307141505239),\n",
       " ('F2OTRVFT', 0.005654672687909007),\n",
       " ('F2COREXP', 0.03603246084599486),\n",
       " ('F2INSUPC', 0.01102122345264889),\n",
       " ('F2INSTFT', 0.7309876101712495),\n",
       " ('F2RSRCFT', 0.0035962496458839957),\n",
       " ('F2ACSPFT', 0.029313497014764826),\n",
       " ('F2STSVFT', 0.00840076935047876),\n",
       " ('F2INSUFT', 0.014291372166103076),\n",
       " ('F2OTEXFT', 0.005680795800275848),\n",
       " ('F2SAFBPC', 0.0053079112553283845),\n",
       " ('F2ENDMFT', 0.07037372071170604),\n",
       " ('F2EQUITR', 0.018624061341653415)]"
      ]
     },
     "execution_count": 20,
     "metadata": {},
     "output_type": "execute_result"
    }
   ],
   "source": [
    "#Feature Importance\n",
    "important_private = []\n",
    "for name, importance in zip(X_train_private.columns, model_one_private['simple_dt'].feature_importances_):\n",
    "    if importance > 0:\n",
    "        important_private.append((name, importance))\n",
    "\n",
    "important_private"
   ]
  },
  {
   "cell_type": "code",
   "execution_count": 21,
   "metadata": {},
   "outputs": [
    {
     "data": {
      "text/plain": [
       "[('F1CORREV', 0.12257084383154572),\n",
       " ('F1TUFEPC', 0.004788588835288123),\n",
       " ('F1GVGCPC', 0.010522376251136377),\n",
       " ('F1OTRVPC', 0.034999036735456075),\n",
       " ('F1TUFEFT', 0.37303198300219736),\n",
       " ('F1STAPFT', 0.083204331340647),\n",
       " ('F1GVGCFT', 0.05313300812894642),\n",
       " ('F1COREXP', 0.04184371979847999),\n",
       " ('F1INSTPC', 0.021307380271763977),\n",
       " ('F1RSRCPC', 0.020733564915404252),\n",
       " ('F1PBSVPC', 0.011588384981397243),\n",
       " ('F1ACSPPC', 0.006129393709168796),\n",
       " ('F1STSVPC', 0.0073171664319111665),\n",
       " ('F1INSUPC', 0.026747426964485663),\n",
       " ('F1OTEXPC', 0.005804350103379544),\n",
       " ('F1INSTFT', 0.023537537402579668),\n",
       " ('F1ACSPFT', 0.020206016695642152),\n",
       " ('F1STSVFT', 0.02408290586208681),\n",
       " ('F1OTEXFT', 0.01986580282525244),\n",
       " ('F1SAFBPC', 0.019478661886611164),\n",
       " ('F1ENDMFT', 0.03226723299624813),\n",
       " ('F1EQUITR', 0.03684028703037206)]"
      ]
     },
     "execution_count": 21,
     "metadata": {},
     "output_type": "execute_result"
    }
   ],
   "source": [
    "#For Public\n",
    "important_public = []\n",
    "for name, importance in zip(X_train_public.columns, model_one_public['simple_dt'].feature_importances_):\n",
    "    if importance > 0:\n",
    "        important_public.append((name, importance))\n",
    "important_public"
   ]
  },
  {
   "cell_type": "code",
   "execution_count": null,
   "metadata": {},
   "outputs": [],
   "source": []
  }
 ],
 "metadata": {
  "interpreter": {
   "hash": "f697dcecb1d05ac00f1a3e6eaa77fcadd261c808812655cf66e71c69fa75e0c6"
  },
  "kernelspec": {
   "display_name": "Python 3.8.5 64-bit ('learn-env': conda)",
   "language": "python",
   "name": "python3"
  },
  "language_info": {
   "codemirror_mode": {
    "name": "ipython",
    "version": 3
   },
   "file_extension": ".py",
   "mimetype": "text/x-python",
   "name": "python",
   "nbconvert_exporter": "python",
   "pygments_lexer": "ipython3",
   "version": "3.8.5"
  },
  "orig_nbformat": 4
 },
 "nbformat": 4,
 "nbformat_minor": 2
}
