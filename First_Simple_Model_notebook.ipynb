{
 "cells": [
  {
   "cell_type": "markdown",
   "metadata": {},
   "source": [
    "# Imports "
   ]
  },
  {
   "cell_type": "code",
   "execution_count": 1,
   "metadata": {},
   "outputs": [],
   "source": [
    "import pyodbc\n",
    "import numpy as np\n",
    "import pandas as pd\n",
    "from functools import reduce\n",
    "import statsmodels.api as sm\n",
    "\n",
    "from sklearn.compose import ColumnTransformer\n",
    "from sklearn.pipeline import Pipeline\n",
    "from sklearn.preprocessing import  StandardScaler\n",
    "from sklearn.model_selection import train_test_split, cross_val_score\n",
    "from sklearn.metrics import  accuracy_score\n",
    "from sklearn.tree import DecisionTreeClassifier\n",
    "from sklearn.dummy import DummyClassifier\n"
   ]
  },
  {
   "cell_type": "markdown",
   "metadata": {},
   "source": [
    "# Data Retrieval"
   ]
  },
  {
   "cell_type": "code",
   "execution_count": 4,
   "metadata": {},
   "outputs": [],
   "source": [
    "df = pd.read_csv(\"data/Gr_Lakes_public_financials.csv\").iloc[:, 1:]\n",
    "df.set_index(['year','UNITID'], inplace=True)"
   ]
  },
  {
   "cell_type": "markdown",
   "metadata": {},
   "source": [
    "# Data Cleaning"
   ]
  },
  {
   "cell_type": "code",
   "execution_count": 5,
   "metadata": {},
   "outputs": [],
   "source": [
    "#drop columns with 40% missing values\n",
    "res2 = df.columns[df.isnull().sum() > 311]\n",
    "df.drop(res2, inplace=True, axis=1)\n",
    "df.dropna(inplace=True)"
   ]
  },
  {
   "cell_type": "markdown",
   "metadata": {},
   "source": [
    "# Target Split "
   ]
  },
  {
   "cell_type": "code",
   "execution_count": 6,
   "metadata": {},
   "outputs": [],
   "source": [
    "y = df['GBA6RTBK']\n",
    "X = df.drop(columns = ['GBA6RTBK'], axis = 1)\n",
    "X_train, X_test, y_train, y_test = train_test_split(X, y, random_state = 42)"
   ]
  },
  {
   "cell_type": "code",
   "execution_count": 7,
   "metadata": {},
   "outputs": [],
   "source": [
    "#Concatenate to one dataframe, check for nan's\n",
    "df = pd.concat([X_train, y_train], axis=1)\n",
    "df.isna().sum().sort_values(ascending=False)\n",
    "df.dropna(inplace=True)"
   ]
  },
  {
   "cell_type": "code",
   "execution_count": 8,
   "metadata": {},
   "outputs": [],
   "source": [
    "#split back\n",
    "y_train = df['GBA6RTBK']\n",
    "X_train = df.drop(columns = ['GBA6RTBK'], axis = 1)"
   ]
  },
  {
   "cell_type": "code",
   "execution_count": 9,
   "metadata": {},
   "outputs": [],
   "source": [
    "#bin target to binary\n",
    "y_train.loc[y_train > .604] = 1\n",
    "y_train.loc[y_train < .604] = 0"
   ]
  },
  {
   "cell_type": "markdown",
   "metadata": {},
   "source": [
    "# First Simple Model"
   ]
  },
  {
   "cell_type": "markdown",
   "metadata": {},
   "source": [
    "## Pipeline"
   ]
  },
  {
   "cell_type": "code",
   "execution_count": 10,
   "metadata": {},
   "outputs": [],
   "source": [
    "#Set up pipeline for scaling continuous variables\n",
    "continuous_pipeline = Pipeline(steps=[\n",
    "    ('ss', StandardScaler())\n",
    "])\n",
    "\n",
    "trans = ColumnTransformer(transformers=[\n",
    "    ('continuous', continuous_pipeline, X_train.columns),\n",
    "])"
   ]
  },
  {
   "cell_type": "markdown",
   "metadata": {},
   "source": [
    "## Dummy"
   ]
  },
  {
   "cell_type": "code",
   "execution_count": 11,
   "metadata": {},
   "outputs": [
    {
     "name": "stderr",
     "output_type": "stream",
     "text": [
      "C:\\Users\\andy.schmeck.OFFICE\\Anaconda3\\envs\\learn-env\\lib\\site-packages\\sklearn\\dummy.py:131: FutureWarning: The default value of strategy will change from stratified to prior in 0.24.\n",
      "  warnings.warn(\"The default value of strategy will change from \"\n"
     ]
    },
    {
     "data": {
      "text/plain": [
       "0.9653679653679653"
      ]
     },
     "execution_count": 11,
     "metadata": {},
     "output_type": "execute_result"
    }
   ],
   "source": [
    "#Pipeline for running the model\n",
    "dummy = Pipeline(steps=[\n",
    "    ('trans', trans),\n",
    "    ('dummy', DummyClassifier(random_state = 42))\n",
    "])\n",
    "#Fitting and checking the score\n",
    "dummy.fit(X_train, y_train)\n",
    "dummy.score(X_train, y_train)"
   ]
  },
  {
   "cell_type": "markdown",
   "metadata": {},
   "source": [
    "## Decision Tree"
   ]
  },
  {
   "cell_type": "code",
   "execution_count": 12,
   "metadata": {},
   "outputs": [
    {
     "name": "stdout",
     "output_type": "stream",
     "text": [
      "Training Score:0.9956709956709957\n",
      "Validation Score:0.9566386161757832\n"
     ]
    }
   ],
   "source": [
    "model_one = Pipeline(steps=[\n",
    "    ('trans', trans),\n",
    "    ('simple_dt', DecisionTreeClassifier(max_depth = 5, random_state = 42))\n",
    "])\n",
    "#Fit model on all the data\n",
    "model_one.fit(X_train, y_train)\n",
    "#Grab predictions and print precision\n",
    "y_pred = model_one.predict(X_train)\n",
    "print(\"Training Score:\" + str(accuracy_score(y_train, y_pred)))\n",
    "#Run a cross validation to test for overfitting\n",
    "scores = np.mean(cross_val_score(model_one, X_train, y_train, cv=5, scoring = 'accuracy'))\n",
    "print(\"Validation Score:\" + str(scores))"
   ]
  },
  {
   "cell_type": "code",
   "execution_count": 17,
   "metadata": {},
   "outputs": [
    {
     "name": "stdout",
     "output_type": "stream",
     "text": [
      "F1A01 0.0\n",
      "F1A31 0.0\n",
      "F1A04 0.0\n",
      "F1A05 0.0\n",
      "F1A06 0.0\n",
      "F1A07 0.0\n",
      "F1A08 0.0\n",
      "F1A09 0.0\n",
      "F1A10 0.0\n",
      "F1A11 0.0\n",
      "F1A12 0.0\n",
      "F1A13 0.0\n",
      "F1A14 0.0\n",
      "F1A15 0.0\n",
      "F1A16 0.0\n",
      "F1A17 0.0\n",
      "F1A18 0.0\n",
      "F1A214 0.0\n",
      "F1A224 0.0\n",
      "F1A234 0.0\n",
      "F1A324 0.0\n",
      "F1A274 0.0\n",
      "F1A27T4 0.0\n",
      "F1A284 0.0\n",
      "F1A334 0.0\n",
      "F1A344 0.0\n",
      "F1D01 0.0\n",
      "F1D02 0.0\n",
      "F1D03 0.0\n",
      "F1D04 0.10368272304833724\n",
      "F1D05 0.14841525401176253\n",
      "F1D06 0.0\n",
      "F1B01 0.0\n",
      "F1B02 0.09221066077653887\n",
      "F1B03 0.0\n",
      "F1B04 0.0\n",
      "F1B04A 0.0\n",
      "F1B04B 0.0\n",
      "F1B05 0.0\n",
      "F1B06 0.0\n",
      "F1B26 0.0\n",
      "F1B07 0.0\n",
      "F1B08 0.0\n",
      "F1B09 0.0\n",
      "F1B10 0.0\n",
      "F1B11 0.0\n",
      "F1B12 0.0\n",
      "F1B13 0.0\n",
      "F1B14 0.0\n",
      "F1B15 0.0\n",
      "F1B16 0.0\n",
      "F1B17 0.0\n",
      "F1B18 0.0\n",
      "F1B19 0.0\n",
      "F1B27 0.0\n",
      "F1B20 0.0\n",
      "F1B21 0.0\n",
      "F1B22 0.0\n",
      "F1B23 0.0\n",
      "F1B24 0.0\n",
      "F1B25 0.0\n",
      "F1C011 0.0\n",
      "F1C012 0.0\n",
      "F1C021 0.0\n",
      "F1C022 0.0\n",
      "F1C031 0.0\n",
      "F1C032 0.0\n",
      "F1C051 0.0\n",
      "F1C052 0.0\n",
      "F1C061 0.0\n",
      "F1C062 0.0\n",
      "F1C071 0.0\n",
      "F1C072 0.0\n",
      "F1C101 0.0\n",
      "F1C111 0.0\n",
      "F1C112 0.0\n",
      "F1C121 0.0\n",
      "F1C122 0.0\n",
      "F1C131 0.0\n",
      "F1C132 0.0\n",
      "F1C141 0.2338896289814328\n",
      "F1C142 0.0\n",
      "F1C191 0.0\n",
      "F1C192 0.0\n",
      "F1C193 0.0\n",
      "F1E01 0.0\n",
      "F1E02 0.0\n",
      "F1E03 0.0\n",
      "F1E04 0.0\n",
      "F1E05 0.0\n",
      "F1E06 0.0\n",
      "F1E07 0.15497590046477114\n",
      "F1E08 0.0\n",
      "F1E09 0.0\n",
      "F1E10 0.0\n",
      "F1E11 0.0\n",
      "F1FHA 0.0\n",
      "F1H01 0.0\n",
      "F1H02 0.0\n",
      "F1CORREV 0.0\n",
      "F1TUFEPC 0.0\n",
      "F1STAPPC 0.0\n",
      "F1LCAPPC 0.0\n",
      "F1GVGCPC 0.0\n",
      "F1PGGCPC 0.0\n",
      "F1INVRPC 0.0\n",
      "F1OTRVPC 0.0\n",
      "F1TUFEFT 0.23638881785921184\n",
      "F1STAPFT 0.0\n",
      "F1LCAPFT 0.0\n",
      "F1GVGCFT 0.0\n",
      "F1PGGCFT 0.0\n",
      "F1INVRFT 0.0\n",
      "F1OTRVFT 0.0\n",
      "F1COREXP 0.0\n",
      "F1INSTPC 0.0\n",
      "F1RSRCPC 0.0\n",
      "F1PBSVPC 0.0\n",
      "F1ACSPPC 0.0\n",
      "F1STSVPC 0.0\n",
      "F1INSUPC 0.0\n",
      "F1OTEXPC 0.0\n",
      "F1INSTFT 0.0\n",
      "F1RSRCFT 0.0\n",
      "F1PBSVFT 0.0\n",
      "F1ACSPFT 0.0\n",
      "F1STSVFT 0.030437014857945654\n",
      "F1INSUFT 0.0\n",
      "F1OTEXFT 0.0\n",
      "F1SAFBPC 0.0\n",
      "F1SALRPC 0.0\n",
      "F1ENDMFT 0.0\n",
      "F1EQUITR 0.0\n"
     ]
    }
   ],
   "source": [
    "#Feature Importance\n",
    "for name, importance in zip(X_train.columns, model_one['simple_dt'].feature_importances_):\n",
    "    print(name, importance)\n"
   ]
  },
  {
   "cell_type": "code",
   "execution_count": null,
   "metadata": {},
   "outputs": [],
   "source": [
    "important = ['F1D04','F1D05','F1B02','F1C141','F1E07','F1TUFEFT','F1STSVFT']"
   ]
  }
 ],
 "metadata": {
  "interpreter": {
   "hash": "f697dcecb1d05ac00f1a3e6eaa77fcadd261c808812655cf66e71c69fa75e0c6"
  },
  "kernelspec": {
   "display_name": "Python 3.8.5 64-bit ('learn-env': conda)",
   "language": "python",
   "name": "python3"
  },
  "language_info": {
   "codemirror_mode": {
    "name": "ipython",
    "version": 3
   },
   "file_extension": ".py",
   "mimetype": "text/x-python",
   "name": "python",
   "nbconvert_exporter": "python",
   "pygments_lexer": "ipython3",
   "version": "3.8.5"
  },
  "orig_nbformat": 4
 },
 "nbformat": 4,
 "nbformat_minor": 2
}
